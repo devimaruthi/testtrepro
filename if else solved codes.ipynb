{
 "cells": [
  {
   "cell_type": "code",
   "execution_count": 14,
   "id": "697042f5",
   "metadata": {},
   "outputs": [
    {
     "name": "stdout",
     "output_type": "stream",
     "text": [
      "num1:8\n",
      "num2:9\n",
      "num2 is greater\n"
     ]
    }
   ],
   "source": [
    "a=int(input(\"num1:\"))# taking input 1\n",
    "b=int(input(\"num2:\"))#taking input 2\n",
    "if a>b:#condition: comparing a,b checking 1st option \"is a greater than b\"\n",
    "    print(\"num1 is greater\")\n",
    "elif a<b:#condition comparing a,b checking 2nd option \"is b is greater than a\"\n",
    "    print(\"num2 is greater\")\n",
    "else:#last option available checking \" if both are equal\"\n",
    "    print(\"both are same\")"
   ]
  },
  {
   "cell_type": "code",
   "execution_count": 1,
   "id": "8d118d53",
   "metadata": {},
   "outputs": [
    {
     "name": "stdout",
     "output_type": "stream",
     "text": [
      "enter quantity56\n",
      "prize is 5600\n"
     ]
    }
   ],
   "source": [
    "a= int(input(\"enter quantity\"))#input\n",
    "if a<1000:#condition checking whether a is less or greater than 1000\n",
    "    print(\"prize is\", a*100)# printing commodity quantity multiplied by each commodity price\n",
    "else:# given condition if a>1000 discount applies,\n",
    "    print(\"prize is\", a*100*0.9) #a>1000 discount 10%= 10/100=1/10=10-0.1=0.9\n",
    "    "
   ]
  },
  {
   "cell_type": "code",
   "execution_count": 2,
   "id": "2e2f2d45",
   "metadata": {},
   "outputs": [
    {
     "name": "stdout",
     "output_type": "stream",
     "text": [
      "enter marks:88\n",
      "Grade A\n"
     ]
    }
   ],
   "source": [
    "a=int(input(\"enter marks:\"))\n",
    "if a>80:\n",
    "    print(\"Grade A\")\n",
    "elif 60>a<80:\n",
    "    print(\"Grade B\")\n",
    "elif 50>a<60:\n",
    "    print(\"Grade C\")\n",
    "elif 50>a<45:\n",
    "    print(\"Grade D\")\n",
    "elif 45>a<25:\n",
    "    print(\"Grade E\")\n",
    "else:\n",
    "    print(\"Grade F\")"
   ]
  },
  {
   "cell_type": "code",
   "execution_count": 3,
   "id": "188522d1",
   "metadata": {},
   "outputs": [
    {
     "name": "stdout",
     "output_type": "stream",
     "text": [
      "enter age of 1:56\n",
      "enter age of 2:45\n",
      "enter age of 3:55\n",
      "a is oldest\n"
     ]
    }
   ],
   "source": [
    "a=int(input(\"enter age of 1:\"))\n",
    "b=int(input(\"enter age of 2:\"))\n",
    "c=int(input(\"enter age of 3:\"))\n",
    "if a>b:\n",
    "    if a>c:\n",
    "        print(\"a is oldest\")\n",
    "    else:\n",
    "        print(\"c is youngest\")\n",
    "if b>a:\n",
    "    if b>c:\n",
    "        print(\"b is oldest\")\n",
    "    else:\n",
    "        print(\"c is oldest\")"
   ]
  },
  {
   "cell_type": "code",
   "execution_count": 6,
   "id": "895584eb",
   "metadata": {},
   "outputs": [
    {
     "name": "stdout",
     "output_type": "stream",
     "text": [
      "enter age of 1:55\n",
      "enter age of 2:55\n",
      "enter age of 3:55\n",
      "all are equal\n"
     ]
    }
   ],
   "source": [
    "a=int(input(\"enter age of 1:\"))\n",
    "b=int(input(\"enter age of 2:\"))\n",
    "c= int(input(\"enter age of 3:\"))\n",
    "if a>b and a>c:\n",
    "    print(\"a is oldest\")\n",
    "elif b>c and b>a:  \n",
    "    print(\"b is oldest\")\n",
    "elif c>a and c>b:\n",
    "    print(\"c is oldest\")\n",
    "else:\n",
    "    print(\"all are equal\")"
   ]
  },
  {
   "cell_type": "code",
   "execution_count": 3,
   "id": "bd1abad7",
   "metadata": {},
   "outputs": [
    {
     "name": "stdout",
     "output_type": "stream",
     "text": [
      "enter the number:-1\n",
      "-1\n"
     ]
    }
   ],
   "source": [
    "a=int(input(\"enter the number:\"))\n",
    "if a<0:\n",
    "    print(\"-1\")\n",
    "else:\n",
    "    print(a)"
   ]
  },
  {
   "cell_type": "code",
   "execution_count": 1,
   "id": "16591e53",
   "metadata": {},
   "outputs": [
    {
     "name": "stdout",
     "output_type": "stream",
     "text": [
      "enter classes held:100\n",
      "enter classes attended:75\n",
      "75.0\n",
      "student is allowed to sit\n"
     ]
    }
   ],
   "source": [
    "a=int(input(\"enter classes held:\"))\n",
    "b=int(input(\"enter classes attended:\"))\n",
    "p= (b/a)*100\n",
    "print(p)\n",
    "if p>=75:\n",
    "    print(\"student is allowed to sit\")\n",
    "else:\n",
    "    print(\"student is not allowed in classroom\")"
   ]
  },
  {
   "cell_type": "code",
   "execution_count": 2,
   "id": "9b8a930d",
   "metadata": {},
   "outputs": [
    {
     "name": "stdout",
     "output_type": "stream",
     "text": [
      "0\n",
      "1\n",
      "2\n",
      "3\n",
      "4\n",
      "5\n",
      "6\n",
      "7\n",
      "8\n",
      "9\n",
      "10\n"
     ]
    }
   ],
   "source": [
    "i=0 #initiationg a loop\n",
    "while i<=10:#giving condition that until i is less or equal to 10\n",
    "    print(i) #printing i until it becomes 10\n",
    "    i=i+1 #setting terminator for the loop\n",
    "\n"
   ]
  },
  {
   "cell_type": "code",
   "execution_count": 5,
   "id": "c243b2e9",
   "metadata": {},
   "outputs": [
    {
     "name": "stdout",
     "output_type": "stream",
     "text": [
      "1 \n",
      "1 2 \n",
      "1 2 3 \n",
      "1 2 3 4 \n",
      "1 2 3 4 5 \n"
     ]
    }
   ],
   "source": [
    "for i in range (1,6,1): # count no.of rows in pattern, give start and stop value along with step value\n",
    "    for j in range(1,i+1):#as one is common in all rows we will print 1 and i+1, for example if is 2 then it will print 1,\n",
    "        print (j,end=\" \")\n",
    "    print (\"\")"
   ]
  },
  {
   "cell_type": "code",
   "execution_count": 6,
   "id": "ab454293",
   "metadata": {},
   "outputs": [
    {
     "name": "stdout",
     "output_type": "stream",
     "text": [
      "enter a number:15\n",
      "120\n"
     ]
    }
   ],
   "source": [
    "n=int(input(\"enter a number:\")) #input \n",
    "print(sum(range(1,n+1)))#sum of range of n+1 will do addition of range of numbers till n+1. \"n+1 is a terminatory condition\"\n"
   ]
  },
  {
   "cell_type": "code",
   "execution_count": 13,
   "id": "a870929a",
   "metadata": {},
   "outputs": [
    {
     "name": "stdout",
     "output_type": "stream",
     "text": [
      "enter a number:12\n",
      "sum is 78\n"
     ]
    }
   ],
   "source": [
    "count=0 #store value of all sum of numbers\n",
    "n=int(input(\"enter a number:\")) #input\n",
    "for i in range(1,n+1,1):# writting a range function,start addition with 1 and end n+1 with one step value\n",
    "    count+=i# add current number to count variable\n",
    "print (\"sum is\",count)#print sum is our count variable which stores all values\n",
    "    \n"
   ]
  },
  {
   "cell_type": "code",
   "execution_count": 15,
   "id": "1ec48ec4",
   "metadata": {},
   "outputs": [
    {
     "name": "stdout",
     "output_type": "stream",
     "text": [
      "enter value of n:5\n",
      "5\n",
      "10\n",
      "15\n",
      "20\n",
      "25\n",
      "30\n",
      "35\n",
      "40\n",
      "45\n"
     ]
    }
   ],
   "source": [
    "n=int(input(\"enter value of n:\"))#input\n",
    "i=0 #loop initiation\n",
    "for i in range(1,10):#condition and printing till 10\n",
    "    print(n*i)#printing number*i,if number is 5 then 5*1=5,5*2=10 will come"
   ]
  },
  {
   "cell_type": "code",
   "execution_count": 4,
   "id": "dc3d5c86",
   "metadata": {},
   "outputs": [
    {
     "name": "stdout",
     "output_type": "stream",
     "text": [
      "75\n",
      "150\n",
      "145\n"
     ]
    }
   ],
   "source": [
    "n=[12,75,150,180,145,525,50]\n",
    "for item in n:#starting a loop\n",
    "    if item>500:#if items in list>500\n",
    "        break #don't print value after 500\n",
    "    elif item>150: #if items in list>150\n",
    "        continue #don't print items that are greater than 150\n",
    "    elif item %5==0:#divisibility check with 5\n",
    "          print(item)\n",
    "        \n",
    "  \n",
    "    "
   ]
  },
  {
   "cell_type": "code",
   "execution_count": 6,
   "id": "8a0bb241",
   "metadata": {},
   "outputs": [
    {
     "name": "stdout",
     "output_type": "stream",
     "text": [
      "total digits are 1\n",
      "total digits are 2\n",
      "total digits are 3\n",
      "total digits are 4\n",
      "total digits are 5\n"
     ]
    }
   ],
   "source": [
    "num=75689 #input\n",
    "count=0 #storing output\n",
    "while num!=0:#condition: till the number is not equal to 0\n",
    "    num=num//10 #divide the number by 10 i.e floor division \"to reduce last digit from number\"\n",
    "    count=count+1 #loop termination\n",
    "    print(\"total digits are\",count) #printing statement"
   ]
  },
  {
   "cell_type": "code",
   "execution_count": 20,
   "id": "b78dccfd",
   "metadata": {},
   "outputs": [
    {
     "name": "stdout",
     "output_type": "stream",
     "text": [
      "5  \n",
      "5 4  \n",
      "5 4 3  \n",
      "5 4 3 2  \n",
      "5 4 3 2 1  \n"
     ]
    }
   ],
   "source": [
    "for i in range(5,0,-1):\n",
    "    for j in range(5,i-1,-1):\n",
    "        print(j,end=\" \")\n",
    "    print(\" \")"
   ]
  },
  {
   "cell_type": "code",
   "execution_count": 5,
   "id": "1384809a",
   "metadata": {},
   "outputs": [
    {
     "name": "stdout",
     "output_type": "stream",
     "text": [
      "50\n",
      "40\n",
      "30\n",
      "20\n",
      "10\n"
     ]
    }
   ],
   "source": [
    "list1=[10,20,30,40,50] #input\n",
    "new_list= reversed(list1) #create a new list which is reversed\n",
    "for item in new_list:# for loop tp call every item for each iteration\n",
    "    print(item) #printing item for each iteration.\n",
    "\n",
    "   \n",
    "    \n"
   ]
  },
  {
   "cell_type": "code",
   "execution_count": 10,
   "id": "d545ba3e",
   "metadata": {},
   "outputs": [
    {
     "name": "stdout",
     "output_type": "stream",
     "text": [
      "-10 -9 -8 -7 -6 -5 -4 -3 -2 -1 "
     ]
    }
   ],
   "source": [
    "for i in range(-10,0,1): #for loop to start numbers from -10 and stop till-1, we give next value to it,so 0\n",
    "    print(i,end=\" \")"
   ]
  },
  {
   "cell_type": "code",
   "execution_count": 9,
   "id": "1d785a68",
   "metadata": {},
   "outputs": [
    {
     "name": "stdout",
     "output_type": "stream",
     "text": [
      "0 1 2 3 4 done\n"
     ]
    }
   ],
   "source": [
    "for i in range(5): #for loop tp print 4 numbers,withstopping value of 5\n",
    "    print(i,end=\" \")\n",
    "else: #else condition they have asked to print done\n",
    "    print(\"done\")"
   ]
  },
  {
   "cell_type": "code",
   "execution_count": 8,
   "id": "2a16c0cc",
   "metadata": {},
   "outputs": [
    {
     "name": "stdout",
     "output_type": "stream",
     "text": [
      "prime numbers between: 25 and 50 are\n",
      "29 31 37 41 43 47 "
     ]
    }
   ],
   "source": [
    "start = 25\n",
    "end = 50\n",
    "print(\"prime numbers between:\", start, \"and\", end, \"are\")\n",
    "for num in range(start,end+1):\n",
    "    if num>1: #all prime numbers should be greater than 1,bcuz no prime number is less than1\n",
    "        for i in range(2,num): #check for factors\n",
    "            if(num % i)== 0: #if division gives 0 remainder it's not prime\n",
    "                break  #break and look for next number\n",
    "        else: #if division does'nt give 0, then it's a prime\n",
    "            print(num,end=\" \")"
   ]
  },
  {
   "cell_type": "code",
   "execution_count": 11,
   "id": "613a78df",
   "metadata": {},
   "outputs": [
    {
     "name": "stdout",
     "output_type": "stream",
     "text": [
      "fibonacci series:\n",
      "0 1 1 2 3 5 8 13 21 34 "
     ]
    }
   ],
   "source": [
    "num1 = 0 #starting number\n",
    "num2 = 1 #ending number\n",
    "print(\"fibonacci series:\") #print statement\n",
    "for i in range(10): #in range of 10 numbers\n",
    "    print(num1, end=\" \") #print number 1 i.e \"0\" first\n",
    "    res=num1+num2 #now add num1 and num 2, i.e add 0+1=1\n",
    "    num1=num2 #now num1 becomes num2 for next iteration i.e for next iteration num1 is 1.\n",
    "    num2=res #and number 2 becomes the resultant from our addition "
   ]
  },
  {
   "cell_type": "code",
   "execution_count": 4,
   "id": "131ac4c1",
   "metadata": {},
   "outputs": [
    {
     "ename": "SyntaxError",
     "evalue": "invalid syntax (Temp/ipykernel_13404/1257691090.py, line 2)",
     "output_type": "error",
     "traceback": [
      "\u001b[1;36m  File \u001b[1;32m\"C:\\Users\\devim\\AppData\\Local\\Temp/ipykernel_13404/1257691090.py\"\u001b[1;36m, line \u001b[1;32m2\u001b[0m\n\u001b[1;33m    print i in range (10):\u001b[0m\n\u001b[1;37m          ^\u001b[0m\n\u001b[1;31mSyntaxError\u001b[0m\u001b[1;31m:\u001b[0m invalid syntax\n"
     ]
    }
   ],
   "source": [
    "i=0\n",
    "print i in range (10):\n",
    "    i=i+1"
   ]
  },
  {
   "cell_type": "code",
   "execution_count": 1,
   "id": "979c233b",
   "metadata": {},
   "outputs": [
    {
     "name": "stdout",
     "output_type": "stream",
     "text": [
      "enter a value:100\n"
     ]
    }
   ],
   "source": [
    "#Accept numbers from a user\n",
    "a=int(input(\"enter a value:\"))"
   ]
  },
  {
   "cell_type": "code",
   "execution_count": 7,
   "id": "dcf7e18e",
   "metadata": {},
   "outputs": [
    {
     "ename": "SyntaxError",
     "evalue": "positional argument follows keyword argument (Temp/ipykernel_10124/764613329.py, line 2)",
     "output_type": "error",
     "traceback": [
      "\u001b[1;36m  File \u001b[1;32m\"C:\\Users\\devim\\AppData\\Local\\Temp/ipykernel_10124/764613329.py\"\u001b[1;36m, line \u001b[1;32m2\u001b[0m\n\u001b[1;33m    a=input(\"enter value of str1\",sep=\" \\n\" ,\"enter value of str2\",sep=\"\\n\", \"enter value of str3\")\u001b[0m\n\u001b[1;37m                                                                                                  ^\u001b[0m\n\u001b[1;31mSyntaxError\u001b[0m\u001b[1;31m:\u001b[0m positional argument follows keyword argument\n"
     ]
    }
   ],
   "source": [
    " #Accept any three string from one input() call\n",
    "a=input(\"enter value of str1\",sep=\" \\n\" ,\"enter value of str2\",sep=\"\\n\", \"enter value of str3\")\n",
    "print(\"Name1\",enter value of str1)\n",
    "print(\"Name2\",enter value of str2)\n",
    "print(\"Name3\",enter value of str3)"
   ]
  },
  {
   "cell_type": "code",
   "execution_count": 3,
   "id": "7a64481b",
   "metadata": {},
   "outputs": [
    {
     "name": "stdout",
     "output_type": "stream",
     "text": [
      "Name**Is**James\n"
     ]
    }
   ],
   "source": [
    "#Display three string “Name”, “Is”, “James” as “Name**Is**James”\n",
    "print(\"Name**Is**James\")"
   ]
  },
  {
   "cell_type": "code",
   "execution_count": 3,
   "id": "98403762",
   "metadata": {},
   "outputs": [
    {
     "name": "stdout",
     "output_type": "stream",
     "text": [
      "10\n"
     ]
    }
   ],
   "source": [
    "# Convert Decimal number to octal using print() output formatting\n",
    "num=8\n",
    "print('%o' % num)"
   ]
  },
  {
   "cell_type": "code",
   "execution_count": 13,
   "id": "9698208e",
   "metadata": {},
   "outputs": [
    {
     "name": "stdout",
     "output_type": "stream",
     "text": [
      "458.54\n"
     ]
    }
   ],
   "source": [
    " #Display float number with 2 decimal places using print()\n",
    "#Given:\n",
    "num = 458.541315\n",
    "print(\"%.2f\" %(num))"
   ]
  },
  {
   "cell_type": "code",
   "execution_count": 2,
   "id": "994f1e33",
   "metadata": {},
   "outputs": [
    {
     "name": "stdout",
     "output_type": "stream",
     "text": [
      "enter a list:[78.6, 78.6, 85.3, 1.2, 3.5]\n"
     ]
    }
   ],
   "source": [
    "#Accept a list of 5 float numbers as an input from the user\n",
    "a=input(\"enter a list:\")"
   ]
  },
  {
   "cell_type": "code",
   "execution_count": null,
   "id": "0d648dea",
   "metadata": {},
   "outputs": [],
   "source": []
  },
  {
   "cell_type": "code",
   "execution_count": 1,
   "id": "5d3fa47b",
   "metadata": {},
   "outputs": [
    {
     "name": "stdout",
     "output_type": "stream",
     "text": [
      "3 4\n"
     ]
    }
   ],
   "source": [
    "#create a function in python\n",
    "def fun(x,y):#function defnition\n",
    "    print(x,y) #ouptup statement\n",
    "fun(3,4) #calling function\n"
   ]
  },
  {
   "cell_type": "code",
   "execution_count": 8,
   "id": "8d2efdf2",
   "metadata": {},
   "outputs": [
    {
     "name": "stdout",
     "output_type": "stream",
     "text": [
      "2 (3, 4, 5, 6)\n"
     ]
    }
   ],
   "source": [
    "#Create a function with variable length of arguments\n",
    "def fun(x,*r): #function defnition with variable length arguments\n",
    "    print(x,*r)#printing variables\n",
    "fun(2,(3,4,5,6)) #calling function,assining values to the arguments\n",
    "    "
   ]
  },
  {
   "cell_type": "code",
   "execution_count": 10,
   "id": "e52c042d",
   "metadata": {},
   "outputs": [
    {
     "name": "stdout",
     "output_type": "stream",
     "text": [
      "20\n",
      "30\n",
      "4\n",
      "5\n",
      "6\n"
     ]
    }
   ],
   "source": [
    "#Create a function with variable length of arguments\n",
    "def fun(*r):#function defnition\n",
    "    for i in r:#iterating *r to get every value from *r for each iteration\n",
    "        print(i) #printing the value of i that it is carrying in each iteration\n",
    "fun(20,30,4,5,6) #calling function"
   ]
  },
  {
   "cell_type": "code",
   "execution_count": 15,
   "id": "025171c8",
   "metadata": {},
   "outputs": [
    {
     "name": "stdout",
     "output_type": "stream",
     "text": [
      "84 -68 608\n"
     ]
    }
   ],
   "source": [
    "#Return multiple values from a function\n",
    "def fun(x,y): #function defnition\n",
    "    add=x+y #give any operation sign between those variables, to create a multpile answers from that expressions using same variables\n",
    "    sub=x-y\n",
    "    multi=x*y\n",
    "    print(add,sub,multi)#printing addition, subtraction, multiplication between same two variables\n",
    "fun(8,76)#calling function\n",
    "\n",
    "\n",
    "    "
   ]
  },
  {
   "cell_type": "code",
   "execution_count": 16,
   "id": "420cf6e8",
   "metadata": {},
   "outputs": [
    {
     "name": "stdout",
     "output_type": "stream",
     "text": [
      "60 20\n"
     ]
    }
   ],
   "source": [
    "#Create a function with default argument\n",
    "def fun(x,y=20): #function defnition with a default argument\n",
    "    print(x,y) #printing the arguments using default argument in function defnition\n",
    "fun(60)#calling function has only xvalue as the y value has alredy given defaultly in function defnition\n",
    "    \n",
    "    "
   ]
  },
  {
   "cell_type": "code",
   "execution_count": 7,
   "id": "13f3dc5d",
   "metadata": {},
   "outputs": [
    {
     "name": "stdout",
     "output_type": "stream",
     "text": [
      "14\n"
     ]
    }
   ],
   "source": [
    "#Create an inner function to calculate the addition in the following way\n",
    "#Create an outer function that will accept two parameters, a and b\n",
    "#Create an inner function inside an outer function that will calculate the addition of a and b\n",
    "#At last, an outer function will add 5 into addition and return it\n",
    "def fun(x,y):#function defnition of outer function\n",
    "    def fun1(x,y):\n",
    "        return x+y\n",
    "    res=fun1(x,y)\n",
    "    return res+5\n",
    "c=fun(3,6)\n",
    "print(c)"
   ]
  },
  {
   "cell_type": "code",
   "execution_count": 24,
   "id": "71171452",
   "metadata": {},
   "outputs": [
    {
     "name": "stdout",
     "output_type": "stream",
     "text": [
      "23 46\n"
     ]
    }
   ],
   "source": [
    "#Assign a different name to function and call it through the new name\n",
    "def fun(x,z):#function defnition\n",
    "    print(x,z) #printing arguments\n",
    "fun1 = fun #renaming function\n",
    "fun1(23,46) #calling function using new name"
   ]
  },
  {
   "cell_type": "code",
   "execution_count": 28,
   "id": "915c1a3e",
   "metadata": {},
   "outputs": [
    {
     "name": "stdout",
     "output_type": "stream",
     "text": [
      "4 6 8 10 12 14 16 18 20 22 24 26 28 "
     ]
    }
   ],
   "source": [
    "#Generate a Python list of all the even numbers between 4 to 30\n",
    "for i in range (4,30,2)#creating loop giving range of numbers\n",
    "    print(i,end=\" \")#printing i\n"
   ]
  },
  {
   "cell_type": "code",
   "execution_count": 29,
   "id": "01ce59a7",
   "metadata": {},
   "outputs": [
    {
     "name": "stdout",
     "output_type": "stream",
     "text": [
      "4 6 8 10 12 14 16 18 20 22 24 26 28 "
     ]
    }
   ],
   "source": [
    "#Generate a Python list of all the even numbers between 4 to 30\n",
    "def fun(x,y):#function defnition\n",
    "    for i in range(x,y):#creating a loop for arguments x,y\n",
    "        if i%2==0: #giving condition to print even numbers\n",
    "            print(i,end=\" \") #printing i value that it is carrying for each iteration\n",
    "        else:\n",
    "            pass #if condition is false just pass the value\n",
    "fun(4,30)#calling function "
   ]
  },
  {
   "cell_type": "code",
   "execution_count": 30,
   "id": "87cd4da4",
   "metadata": {},
   "outputs": [
    {
     "name": "stdout",
     "output_type": "stream",
     "text": [
      "24\n"
     ]
    }
   ],
   "source": [
    "#Find the largest item from a given list\n",
    "x = [4, 6, 8, 24, 12, 2]\n",
    "print(max(x))\n"
   ]
  },
  {
   "cell_type": "code",
   "execution_count": 4,
   "id": "c0f2dd6c",
   "metadata": {},
   "outputs": [
    {
     "name": "stdout",
     "output_type": "stream",
     "text": [
      "3\n"
     ]
    }
   ],
   "source": [
    "#Write a Python function to find the Max of three numbers.\n",
    "def fun(x):\n",
    "    print(max(x))\n",
    "fun([1,2,3])"
   ]
  },
  {
   "cell_type": "code",
   "execution_count": 1,
   "id": "3354ff46",
   "metadata": {},
   "outputs": [
    {
     "name": "stdout",
     "output_type": "stream",
     "text": [
      "20\n"
     ]
    }
   ],
   "source": [
    "#Write a Python function to sum all the numbers in a list. \n",
    "#Sample List : (8, 2, 3, 0, 7)\n",
    "#Expected Output : 20\n",
    "def fun(x):#fun def.\n",
    "    print(sum(x)) #printing sum of list by using sum command\n",
    "fun([8,2,3,0,7]) #function call\n",
    "    "
   ]
  },
  {
   "cell_type": "code",
   "execution_count": 16,
   "id": "8a999151",
   "metadata": {},
   "outputs": [
    {
     "name": "stdout",
     "output_type": "stream",
     "text": [
      "-336\n"
     ]
    }
   ],
   "source": [
    "#Write a Python function to multiply all the numbers in a list. \n",
    "#Sample List : (8, 2, 3, -1, 7)\n",
    "#Expected Output : -336\n",
    "def fun(x): #unction def\n",
    "    res=math.prod(x) #storing result in \"res\" by importing math product function we can do product of list\n",
    "    print(res) #printing \"res\"\n",
    "fun([8, 2, 3, -1, 7]) #function call"
   ]
  },
  {
   "cell_type": "code",
   "execution_count": 6,
   "id": "9d250817",
   "metadata": {},
   "outputs": [
    {
     "name": "stdout",
     "output_type": "stream",
     "text": [
      "dcba4321\n"
     ]
    }
   ],
   "source": [
    "#Write a Python program to reverse a string. Go to the editor\n",
    "#Sample String : \"1234abcd\"\n",
    "#Expected Output : \"dcba4321\"\n",
    "def fun(x):\n",
    "    stringlength=len(x) # calculate length of the list\n",
    "    slicedString=x[stringlength::-1] # slicing \n",
    "    print (slicedString) # print the reversed string\n",
    "fun(\"1234abcd\")\n",
    "\n",
    "    \n",
    "    "
   ]
  },
  {
   "cell_type": "code",
   "execution_count": 16,
   "id": "e6d747ae",
   "metadata": {},
   "outputs": [
    {
     "name": "stdout",
     "output_type": "stream",
     "text": [
      "* * * * *  \n",
      "* * * * *  \n",
      "* * * * *  \n",
      "* * * * *  \n",
      "* * * * *  \n"
     ]
    }
   ],
   "source": [
    "for i in range(5):\n",
    "    for j in range(5):\n",
    "        print(\"*\",end=\" \")\n",
    "    print(\" \")"
   ]
  },
  {
   "cell_type": "code",
   "execution_count": 15,
   "id": "57ab00d5",
   "metadata": {},
   "outputs": [
    {
     "name": "stdout",
     "output_type": "stream",
     "text": [
      "*  \n",
      "* *  \n",
      "* * *  \n",
      "* * * *  \n",
      "* * * * *  \n"
     ]
    }
   ],
   "source": [
    "for i in range(5):\n",
    "    for j in range(i+1):\n",
    "        print(\"*\",end=\" \")\n",
    "    print(\" \")"
   ]
  },
  {
   "cell_type": "code",
   "execution_count": 14,
   "id": "28d3ecef",
   "metadata": {},
   "outputs": [
    {
     "name": "stdout",
     "output_type": "stream",
     "text": [
      "* * * * *  \n",
      "* * * *  \n",
      "* * *  \n",
      "* *  \n",
      "*  \n",
      " \n"
     ]
    }
   ],
   "source": [
    "for i in range(6,0,-1):\n",
    "    for j in range(i-1):\n",
    "        print(\"*\",end=\" \")\n",
    "    print(\" \")"
   ]
  },
  {
   "cell_type": "code",
   "execution_count": 19,
   "id": "73698a00",
   "metadata": {},
   "outputs": [
    {
     "name": "stdout",
     "output_type": "stream",
     "text": [
      "          * \n",
      "        * * \n",
      "      * * * \n",
      "    * * * * \n",
      "  * * * * * \n"
     ]
    }
   ],
   "source": [
    "for i in range(5):\n",
    "    for j in range(i,5):\n",
    "        print(\" \",end=' ')\n",
    "    for j in range(i+1):\n",
    "        print(\"*\",end=' ')\n",
    "    print()"
   ]
  },
  {
   "cell_type": "code",
   "execution_count": 21,
   "id": "8a1d578e",
   "metadata": {},
   "outputs": [
    {
     "name": "stdout",
     "output_type": "stream",
     "text": [
      "  * * * * * \n",
      "    * * * * \n",
      "      * * * \n",
      "        * * \n",
      "          * \n"
     ]
    }
   ],
   "source": [
    "for i in range(5):\n",
    "    for j in range(i+1):\n",
    "        print(\" \",end=\" \")\n",
    "    for j in range(i,5):\n",
    "        print(\"*\",end=\" \")\n",
    "    print()"
   ]
  },
  {
   "cell_type": "code",
   "execution_count": null,
   "id": "6a0ea321",
   "metadata": {},
   "outputs": [],
   "source": []
  }
 ],
 "metadata": {
  "kernelspec": {
   "display_name": "Python 3 (ipykernel)",
   "language": "python",
   "name": "python3"
  },
  "language_info": {
   "codemirror_mode": {
    "name": "ipython",
    "version": 3
   },
   "file_extension": ".py",
   "mimetype": "text/x-python",
   "name": "python",
   "nbconvert_exporter": "python",
   "pygments_lexer": "ipython3",
   "version": "3.9.7"
  }
 },
 "nbformat": 4,
 "nbformat_minor": 5
}
